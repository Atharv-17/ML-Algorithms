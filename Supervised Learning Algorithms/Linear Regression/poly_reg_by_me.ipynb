{
 "cells": [
  {
   "cell_type": "code",
   "execution_count": 1,
   "id": "5e8fda73",
   "metadata": {},
   "outputs": [],
   "source": [
    "import numpy as np\n",
    "import pandas as pd\n",
    "import matplotlib.pyplot as plt\n",
    "import seaborn as sns"
   ]
  },
  {
   "cell_type": "markdown",
   "id": "852cf864",
   "metadata": {},
   "source": [
    "# Data"
   ]
  },
  {
   "cell_type": "code",
   "execution_count": 2,
   "id": "355ff6f6",
   "metadata": {},
   "outputs": [],
   "source": [
    "df=pd.read_csv('Advertising.csv')"
   ]
  },
  {
   "cell_type": "code",
   "execution_count": 3,
   "id": "3e3debdd",
   "metadata": {},
   "outputs": [
    {
     "data": {
      "text/html": [
       "<div>\n",
       "<style scoped>\n",
       "    .dataframe tbody tr th:only-of-type {\n",
       "        vertical-align: middle;\n",
       "    }\n",
       "\n",
       "    .dataframe tbody tr th {\n",
       "        vertical-align: top;\n",
       "    }\n",
       "\n",
       "    .dataframe thead th {\n",
       "        text-align: right;\n",
       "    }\n",
       "</style>\n",
       "<table border=\"1\" class=\"dataframe\">\n",
       "  <thead>\n",
       "    <tr style=\"text-align: right;\">\n",
       "      <th></th>\n",
       "      <th>TV</th>\n",
       "      <th>radio</th>\n",
       "      <th>newspaper</th>\n",
       "      <th>sales</th>\n",
       "    </tr>\n",
       "  </thead>\n",
       "  <tbody>\n",
       "    <tr>\n",
       "      <th>0</th>\n",
       "      <td>230.1</td>\n",
       "      <td>37.8</td>\n",
       "      <td>69.2</td>\n",
       "      <td>22.1</td>\n",
       "    </tr>\n",
       "    <tr>\n",
       "      <th>1</th>\n",
       "      <td>44.5</td>\n",
       "      <td>39.3</td>\n",
       "      <td>45.1</td>\n",
       "      <td>10.4</td>\n",
       "    </tr>\n",
       "    <tr>\n",
       "      <th>2</th>\n",
       "      <td>17.2</td>\n",
       "      <td>45.9</td>\n",
       "      <td>69.3</td>\n",
       "      <td>9.3</td>\n",
       "    </tr>\n",
       "    <tr>\n",
       "      <th>3</th>\n",
       "      <td>151.5</td>\n",
       "      <td>41.3</td>\n",
       "      <td>58.5</td>\n",
       "      <td>18.5</td>\n",
       "    </tr>\n",
       "    <tr>\n",
       "      <th>4</th>\n",
       "      <td>180.8</td>\n",
       "      <td>10.8</td>\n",
       "      <td>58.4</td>\n",
       "      <td>12.9</td>\n",
       "    </tr>\n",
       "  </tbody>\n",
       "</table>\n",
       "</div>"
      ],
      "text/plain": [
       "      TV  radio  newspaper  sales\n",
       "0  230.1   37.8       69.2   22.1\n",
       "1   44.5   39.3       45.1   10.4\n",
       "2   17.2   45.9       69.3    9.3\n",
       "3  151.5   41.3       58.5   18.5\n",
       "4  180.8   10.8       58.4   12.9"
      ]
     },
     "execution_count": 3,
     "metadata": {},
     "output_type": "execute_result"
    }
   ],
   "source": [
    "df.head()"
   ]
  },
  {
   "cell_type": "code",
   "execution_count": 4,
   "id": "d1ac64ce",
   "metadata": {},
   "outputs": [],
   "source": [
    "X = df.drop('sales', axis=1)"
   ]
  },
  {
   "cell_type": "code",
   "execution_count": 5,
   "id": "ccf3340e",
   "metadata": {},
   "outputs": [],
   "source": [
    "y=df['sales']"
   ]
  },
  {
   "cell_type": "markdown",
   "id": "bc86c4af",
   "metadata": {},
   "source": [
    "# polynomial Regression"
   ]
  },
  {
   "cell_type": "code",
   "execution_count": 6,
   "id": "058bff5a",
   "metadata": {},
   "outputs": [],
   "source": [
    "from sklearn.preprocessing import PolynomialFeatures"
   ]
  },
  {
   "cell_type": "code",
   "execution_count": 7,
   "id": "299d9478",
   "metadata": {},
   "outputs": [],
   "source": [
    "poltnomial_converter = PolynomialFeatures(degree=2, include_bias=False) "
   ]
  },
  {
   "cell_type": "code",
   "execution_count": 9,
   "id": "8ba4fdc4",
   "metadata": {},
   "outputs": [
    {
     "data": {
      "text/plain": [
       "PolynomialFeatures(include_bias=False)"
      ]
     },
     "execution_count": 9,
     "metadata": {},
     "output_type": "execute_result"
    }
   ],
   "source": [
    "poltnomial_converter.fit(X)"
   ]
  },
  {
   "cell_type": "code",
   "execution_count": 16,
   "id": "6ca1a7c0",
   "metadata": {},
   "outputs": [],
   "source": [
    "poly_features=poltnomial_converter.transform(X)"
   ]
  },
  {
   "cell_type": "code",
   "execution_count": 19,
   "id": "7ce2386a",
   "metadata": {},
   "outputs": [
    {
     "data": {
      "text/plain": [
       "(200, 9)"
      ]
     },
     "execution_count": 19,
     "metadata": {},
     "output_type": "execute_result"
    }
   ],
   "source": [
    "poly_features.shape"
   ]
  },
  {
   "cell_type": "code",
   "execution_count": 18,
   "id": "cb30b682",
   "metadata": {},
   "outputs": [
    {
     "data": {
      "text/plain": [
       "TV           230.1\n",
       "radio         37.8\n",
       "newspaper     69.2\n",
       "Name: 0, dtype: float64"
      ]
     },
     "execution_count": 18,
     "metadata": {},
     "output_type": "execute_result"
    }
   ],
   "source": [
    "X.iloc[0]"
   ]
  },
  {
   "cell_type": "code",
   "execution_count": 21,
   "id": "3e283680",
   "metadata": {},
   "outputs": [
    {
     "data": {
      "text/plain": [
       "array([2.301000e+02, 3.780000e+01, 6.920000e+01, 5.294601e+04,\n",
       "       8.697780e+03, 1.592292e+04, 1.428840e+03, 2.615760e+03,\n",
       "       4.788640e+03])"
      ]
     },
     "execution_count": 21,
     "metadata": {},
     "output_type": "execute_result"
    }
   ],
   "source": [
    "poly_features[0]"
   ]
  },
  {
   "cell_type": "code",
   "execution_count": 22,
   "id": "2f351860",
   "metadata": {},
   "outputs": [
    {
     "data": {
      "text/plain": [
       "array([[ 230.1 ,   37.8 ,   69.2 , ..., 1428.84, 2615.76, 4788.64],\n",
       "       [  44.5 ,   39.3 ,   45.1 , ..., 1544.49, 1772.43, 2034.01],\n",
       "       [  17.2 ,   45.9 ,   69.3 , ..., 2106.81, 3180.87, 4802.49],\n",
       "       ...,\n",
       "       [ 177.  ,    9.3 ,    6.4 , ...,   86.49,   59.52,   40.96],\n",
       "       [ 283.6 ,   42.  ,   66.2 , ..., 1764.  , 2780.4 , 4382.44],\n",
       "       [ 232.1 ,    8.6 ,    8.7 , ...,   73.96,   74.82,   75.69]])"
      ]
     },
     "execution_count": 22,
     "metadata": {},
     "output_type": "execute_result"
    }
   ],
   "source": [
    "poltnomial_converter.fit_transform(X)"
   ]
  },
  {
   "cell_type": "markdown",
   "id": "08952fec",
   "metadata": {},
   "source": [
    "# train test split"
   ]
  },
  {
   "cell_type": "code",
   "execution_count": 23,
   "id": "f408e134",
   "metadata": {},
   "outputs": [],
   "source": [
    "from sklearn.model_selection import train_test_split"
   ]
  },
  {
   "cell_type": "code",
   "execution_count": 24,
   "id": "c9ae4dbb",
   "metadata": {},
   "outputs": [],
   "source": [
    "X_train, X_test, y_train, y_test = train_test_split(poly_features, y, test_size=0.3, random_state=101)"
   ]
  },
  {
   "cell_type": "code",
   "execution_count": 25,
   "id": "5c1f3644",
   "metadata": {},
   "outputs": [],
   "source": [
    "from sklearn.linear_model import LinearRegression"
   ]
  },
  {
   "cell_type": "code",
   "execution_count": 26,
   "id": "1662c44b",
   "metadata": {},
   "outputs": [],
   "source": [
    "model=LinearRegression()"
   ]
  },
  {
   "cell_type": "code",
   "execution_count": 27,
   "id": "5c28434f",
   "metadata": {},
   "outputs": [
    {
     "data": {
      "text/plain": [
       "LinearRegression()"
      ]
     },
     "execution_count": 27,
     "metadata": {},
     "output_type": "execute_result"
    }
   ],
   "source": [
    "model.fit(X_train, y_train)"
   ]
  },
  {
   "cell_type": "code",
   "execution_count": 29,
   "id": "f884e0fe",
   "metadata": {},
   "outputs": [],
   "source": [
    "test_predic= model.predict(X_test)"
   ]
  },
  {
   "cell_type": "code",
   "execution_count": 31,
   "id": "6fcf56c3",
   "metadata": {},
   "outputs": [
    {
     "data": {
      "text/plain": [
       "array([ 5.17095811e-02,  1.30848864e-02,  1.20000085e-02, -1.10892474e-04,\n",
       "        1.14212673e-03, -5.24100082e-05,  3.34919737e-05,  1.46380310e-04,\n",
       "       -3.04715806e-05])"
      ]
     },
     "execution_count": 31,
     "metadata": {},
     "output_type": "execute_result"
    }
   ],
   "source": [
    "model.coef_"
   ]
  },
  {
   "cell_type": "markdown",
   "id": "85db2992",
   "metadata": {},
   "source": [
    "# Evaluation"
   ]
  },
  {
   "cell_type": "code",
   "execution_count": 32,
   "id": "3f1c780a",
   "metadata": {},
   "outputs": [],
   "source": [
    "from sklearn.metrics import mean_absolute_error,mean_squared_error"
   ]
  },
  {
   "cell_type": "code",
   "execution_count": 34,
   "id": "70fd998c",
   "metadata": {},
   "outputs": [],
   "source": [
    "MAE=mean_absolute_error(y_test, test_predic)"
   ]
  },
  {
   "cell_type": "code",
   "execution_count": 35,
   "id": "8ee4704d",
   "metadata": {},
   "outputs": [],
   "source": [
    "MSE=mean_squared_error(y_test, test_predic)"
   ]
  },
  {
   "cell_type": "code",
   "execution_count": 36,
   "id": "23f162bf",
   "metadata": {},
   "outputs": [],
   "source": [
    "RMSE=np.sqrt(MSE)"
   ]
  },
  {
   "cell_type": "code",
   "execution_count": 39,
   "id": "6cce13b1",
   "metadata": {},
   "outputs": [
    {
     "data": {
      "text/plain": [
       "0.4896798044803804"
      ]
     },
     "execution_count": 39,
     "metadata": {},
     "output_type": "execute_result"
    }
   ],
   "source": [
    "MAE"
   ]
  },
  {
   "cell_type": "code",
   "execution_count": 40,
   "id": "2d775562",
   "metadata": {},
   "outputs": [
    {
     "data": {
      "text/plain": [
       "0.664643175726924"
      ]
     },
     "execution_count": 40,
     "metadata": {},
     "output_type": "execute_result"
    }
   ],
   "source": [
    "RMSE"
   ]
  },
  {
   "cell_type": "code",
   "execution_count": 41,
   "id": "1506bda2",
   "metadata": {},
   "outputs": [],
   "source": [
    "# create a diff order poly\n",
    "# split that into test train\n",
    "#fit on train\n",
    "#store/colve then rmse for both train and test\n",
    "#plot error vs poly degree!"
   ]
  },
  {
   "cell_type": "code",
   "execution_count": null,
   "id": "b21c5477",
   "metadata": {},
   "outputs": [],
   "source": []
  },
  {
   "cell_type": "markdown",
   "id": "1bd20355",
   "metadata": {},
   "source": [
    "#### Choosing Model by adjusting parameters"
   ]
  },
  {
   "cell_type": "code",
   "execution_count": 43,
   "id": "ef38826b",
   "metadata": {},
   "outputs": [],
   "source": [
    "train_rmse_error = []\n",
    "test_rmse_error= []\n",
    "\n",
    "for d in range(1, 10):\n",
    "    poly_converter = PolynomialFeatures(degree=d, include_bias=False)\n",
    "    \n",
    "    poly_features=poly_converter.fit_transform(X)\n",
    "    \n",
    "    X_train, X_test, y_train, y_test = train_test_split(poly_features, y, test_size=0.3, random_state=101)\n",
    "    \n",
    "    model=LinearRegression()\n",
    "    model.fit(X_train, y_train)\n",
    "    \n",
    "    train_predict=model.predict(X_train)\n",
    "    test_predict=model.predict(X_test)\n",
    "    \n",
    "    train_rmse=np.sqrt(mean_squared_error(y_train, train_predict))\n",
    "    test_rmse=np.sqrt(mean_squared_error(y_test, test_predict))\n",
    "    \n",
    "    train_rmse_error.append(train_rmse)\n",
    "    test_rmse_error.append(test_rmse)"
   ]
  },
  {
   "cell_type": "code",
   "execution_count": 45,
   "id": "e3fc766b",
   "metadata": {},
   "outputs": [
    {
     "data": {
      "text/plain": [
       "[1.7345941243293763,\n",
       " 0.587957408529223,\n",
       " 0.4339344356902067,\n",
       " 0.3517083688399347,\n",
       " 0.2509342938178697,\n",
       " 0.19456664720242475,\n",
       " 5.42373727977031,\n",
       " 0.141680566865069,\n",
       " 0.17093527229416686]"
      ]
     },
     "execution_count": 45,
     "metadata": {},
     "output_type": "execute_result"
    }
   ],
   "source": [
    "train_rmse_error"
   ]
  },
  {
   "cell_type": "code",
   "execution_count": 46,
   "id": "7bb6ee88",
   "metadata": {},
   "outputs": [
    {
     "data": {
      "text/plain": [
       "[1.5161519375993875,\n",
       " 0.664643175726924,\n",
       " 0.5803286825161322,\n",
       " 0.5077742623175888,\n",
       " 2.5758370634900736,\n",
       " 4.21402738473488,\n",
       " 1374.9574048884165,\n",
       " 4344.727850519731,\n",
       " 93796.02671838482]"
      ]
     },
     "execution_count": 46,
     "metadata": {},
     "output_type": "execute_result"
    }
   ],
   "source": [
    "test_rmse_error"
   ]
  },
  {
   "cell_type": "code",
   "execution_count": 53,
   "id": "730d222e",
   "metadata": {},
   "outputs": [
    {
     "data": {
      "text/plain": [
       "<matplotlib.legend.Legend at 0x25a38e65820>"
      ]
     },
     "execution_count": 53,
     "metadata": {},
     "output_type": "execute_result"
    },
    {
     "data": {
      "image/png": "[encoded data removed]",
      "text/plain": [
       "<Figure size 432x288 with 1 Axes>"
      ]
     },
     "metadata": {
      "needs_background": "light"
     },
     "output_type": "display_data"
    }
   ],
   "source": [
    "plt.plot(range(1, 6), train_rmse_error[:5], label='TRAIN RMSE')\n",
    "plt.plot(range(1, 6), test_rmse_error[:5], label='TEST RMSE')\n",
    "\n",
    "plt.ylabel('TRAIN RMSE')\n",
    "plt.xlabel('Degree of POly')\n",
    "plt.legend()"
   ]
  },
  {
   "cell_type": "markdown",
   "id": "4b36e4cb",
   "metadata": {},
   "source": [
    "##### Final Model "
   ]
  },
  {
   "cell_type": "code",
   "execution_count": 54,
   "id": "7c03c978",
   "metadata": {},
   "outputs": [],
   "source": [
    "final_poly_converter=PolynomialFeatures(degree=3, include_bias=False)"
   ]
  },
  {
   "cell_type": "code",
   "execution_count": 55,
   "id": "ed225d7e",
   "metadata": {},
   "outputs": [],
   "source": [
    "final_model=LinearRegression()"
   ]
  },
  {
   "cell_type": "code",
   "execution_count": 56,
   "id": "c49242b7",
   "metadata": {},
   "outputs": [
    {
     "data": {
      "text/plain": [
       "LinearRegression()"
      ]
     },
     "execution_count": 56,
     "metadata": {},
     "output_type": "execute_result"
    }
   ],
   "source": [
    "full_converted_X=final_poly_converter.fit_transform(X)\n",
    "\n",
    "final_model.fit(full_converted_X, y)"
   ]
  },
  {
   "cell_type": "markdown",
   "id": "e18f474b",
   "metadata": {},
   "source": [
    "##### Model dumping and loading"
   ]
  },
  {
   "cell_type": "code",
   "execution_count": 57,
   "id": "5a6c51d6",
   "metadata": {},
   "outputs": [],
   "source": [
    "from joblib import dump, load"
   ]
  },
  {
   "cell_type": "code",
   "execution_count": 58,
   "id": "68d31641",
   "metadata": {},
   "outputs": [
    {
     "data": {
      "text/plain": [
       "['final_poly_model.joblib']"
      ]
     },
     "execution_count": 58,
     "metadata": {},
     "output_type": "execute_result"
    }
   ],
   "source": [
    "dump(final_model, 'final_poly_model.joblib')"
   ]
  },
  {
   "cell_type": "code",
   "execution_count": 59,
   "id": "b19edeec",
   "metadata": {},
   "outputs": [
    {
     "data": {
      "text/plain": [
       "['final_converter.joblib']"
      ]
     },
     "execution_count": 59,
     "metadata": {},
     "output_type": "execute_result"
    }
   ],
   "source": [
    "dump(final_poly_converter,'final_converter.joblib')"
   ]
  },
  {
   "cell_type": "code",
   "execution_count": 60,
   "id": "270c7e27",
   "metadata": {},
   "outputs": [],
   "source": [
    "loaded_converter=load('final_converter.joblib')"
   ]
  },
  {
   "cell_type": "code",
   "execution_count": 61,
   "id": "34b6a4d5",
   "metadata": {},
   "outputs": [],
   "source": [
    "loaded_model=load('final_poly_model.joblib')"
   ]
  },
  {
   "cell_type": "code",
   "execution_count": 62,
   "id": "f0e35e1a",
   "metadata": {},
   "outputs": [],
   "source": [
    "campaign = [[149, 22, 12]]"
   ]
  },
  {
   "cell_type": "code",
   "execution_count": 64,
   "id": "ae6ad551",
   "metadata": {},
   "outputs": [],
   "source": [
    "transformed_data=loaded_converter.fit_transform(campaign)"
   ]
  },
  {
   "cell_type": "code",
   "execution_count": 65,
   "id": "0054071b",
   "metadata": {},
   "outputs": [
    {
     "data": {
      "text/plain": [
       "array([14.64501014])"
      ]
     },
     "execution_count": 65,
     "metadata": {},
     "output_type": "execute_result"
    }
   ],
   "source": [
    "loaded_model.predict(transformed_data)"
   ]
  },
  {
   "cell_type": "code",
   "execution_count": null,
   "id": "f90ccf4a",
   "metadata": {},
   "outputs": [],
   "source": []
  }
 ],
 "metadata": {
  "kernelspec": {
   "display_name": "Python 3 (ipykernel)",
   "language": "python",
   "name": "python3"
  },
  "language_info": {
   "codemirror_mode": {
    "name": "ipython",
    "version": 3
   },
   "file_extension": ".py",
   "mimetype": "text/x-python",
   "name": "python",
   "nbconvert_exporter": "python",
   "pygments_lexer": "ipython3",
   "version": "3.9.7"
  }
 },
 "nbformat": 4,
 "nbformat_minor": 5
}
